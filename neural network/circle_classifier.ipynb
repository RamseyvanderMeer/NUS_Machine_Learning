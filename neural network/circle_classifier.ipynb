{
 "cells": [
  {
   "cell_type": "code",
   "execution_count": 35,
   "metadata": {},
   "outputs": [],
   "source": [
    "import numpy as np\n",
    "import matplotlib.pyplot as plt\n",
    "import pandas as pd\n",
    "import matplotlib\n",
    "from matplotlib import pyplot as plt\n",
    "import scipy\n",
    "from sklearn import svm"
   ]
  },
  {
   "cell_type": "code",
   "execution_count": 36,
   "metadata": {},
   "outputs": [],
   "source": [
    "# import the dataset\n",
    "dataset = pd.read_csv('ANN_circle.csv')\n",
    "X = dataset[['x1', 'x2']].values\n",
    "Y = dataset['label'].values.reshape(100,1)\n",
    "\n",
    "# Sigmoid function and its derivative\n",
    "def sigmoid(z):\n",
    "    return 1 / (1 + np.exp(-z))\n",
    "\n",
    "def sigmoid_derivative(z):\n",
    "    return z * (1 - z)\n"
   ]
  },
  {
   "cell_type": "code",
   "execution_count": 41,
   "metadata": {},
   "outputs": [],
   "source": [
    "# Define the neural network\n",
    "class NeuralNetwork:\n",
    "    def __init__(self, input_layer_size, hidden_layer_size, output_layer_size):\n",
    "        self.input_layer_weights = np.random.randn(input_layer_size, hidden_layer_size)\n",
    "        # print(self.input_layer_weights)\n",
    "        self.output_layer_weights = np.random.randn(hidden_layer_size, output_layer_size)\n",
    "        # print(self.output_layer_weights)\n",
    "        self.hidden_layer_bias = np.random.randn(1, hidden_layer_size)\n",
    "        # print(self.hidden_layer_bias)\n",
    "        self.output_layer_bias = np.random.randn(1, output_layer_size)\n",
    "        # print(self.output_layer_bias)\n",
    "\n",
    "    def forward(self, X):\n",
    "        self.hidden_layer_weight = sigmoid(np.dot(X, self.input_layer_weights) + self.hidden_layer_bias)\n",
    "        # print(self.hidden_layer_weight)\n",
    "        self.final_output = sigmoid(np.dot(self.hidden_layer_weight, self.output_layer_weights) + self.output_layer_bias)\n",
    "        # print(self.final_output)\n",
    "        return self.final_output\n",
    "\n",
    "\n",
    "    def backpropagate(self, X, Y, learning_rate):\n",
    "        # mean squared error derivative\n",
    "        self.loss = Y - self.final_output\n",
    "\n",
    "        # print(f'Loss: {self.loss}')\n",
    "\n",
    "        # Calculate the gradient of the output layer\n",
    "        self.output_layer_gradient = sigmoid_derivative(self.final_output) * self.loss\n",
    "\n",
    "        # Calculate the gradient of the hidden layer\n",
    "        self.hidden_layer_gradient = sigmoid_derivative(self.hidden_layer_weight) * np.dot(self.output_layer_gradient, self.output_layer_weights.T)\n",
    "\n",
    "        # Update the weights and biases\n",
    "        self.output_layer_weights += np.dot(self.hidden_layer_weight.T, self.output_layer_gradient) * learning_rate\n",
    "        self.output_layer_bias += np.sum(self.output_layer_gradient, axis=0, keepdims=True) * learning_rate\n",
    "        self.input_layer_weights += np.dot(X.T, self.hidden_layer_gradient) * learning_rate\n",
    "        self.hidden_layer_bias += np.sum(self.hidden_layer_gradient, axis=0, keepdims=True) * learning_rate\n",
    "\n",
    "\n",
    "    def train(self, X, Y, epochs, learning_rate):\n",
    "        for epoch in range(epochs):\n",
    "            self.forward(X)\n",
    "            self.backpropagate(X, Y, learning_rate)\n",
    "            # Print the loss every 1000 epochs\n",
    "            if epoch % 10000 == 0:\n",
    "                # mean squared error loss\n",
    "                loss = 0.5 * np.mean(( Y - self.final_output ) ** 2)\n",
    "                print(f'Epoch {epoch}: loss {loss}')\n",
    "\n",
    "    def predict(self, X):\n",
    "        return self.forward(X)\n"
   ]
  },
  {
   "cell_type": "code",
   "execution_count": 42,
   "metadata": {},
   "outputs": [
    {
     "name": "stdout",
     "output_type": "stream",
     "text": [
      "Epoch 0: loss 0.2501708342394401\n",
      "Epoch 10000: loss 0.0001463744778669988\n",
      "Epoch 20000: loss 5.610981135973808e-05\n",
      "Epoch 30000: loss 3.300675881888312e-05\n",
      "Epoch 40000: loss 2.2920620319580744e-05\n",
      "Epoch 50000: loss 1.7374853895524442e-05\n",
      "Epoch 60000: loss 1.3902339458712802e-05\n",
      "Epoch 70000: loss 1.1538393677927661e-05\n",
      "Epoch 80000: loss 9.832436636017375e-06\n",
      "Epoch 90000: loss 8.547189061880173e-06\n",
      "[[0.99990386]]\n"
     ]
    }
   ],
   "source": [
    "nn = NeuralNetwork(input_layer_size=2, hidden_layer_size=25, output_layer_size=1)\n",
    "# nn.forward(X)\n",
    "# nn.backpropagate(X, Y, 0.01)\n",
    "# nn.forward(X)\n",
    "nn.train(X, Y, epochs=100000, learning_rate=0.1)\n",
    "X_test = np.array([[0.5, 0.5]])\n",
    "print(nn.predict(X_test))"
   ]
  },
  {
   "cell_type": "code",
   "execution_count": 56,
   "metadata": {},
   "outputs": [
    {
     "data": {
      "text/plain": [
       "<matplotlib.contour.QuadContourSet at 0x30490d1c0>"
      ]
     },
     "execution_count": 56,
     "metadata": {},
     "output_type": "execute_result"
    },
    {
     "data": {
      "image/png": "[encoded data removed]",
      "text/plain": [
       "<Figure size 640x480 with 1 Axes>"
      ]
     },
     "metadata": {},
     "output_type": "display_data"
    }
   ],
   "source": [
    "\n",
    "res = nn.predict(X).flatten()\n",
    "# print(res)\n",
    "inside = np.array([X[i] for i in range(len(res)) if res[i] >= 0.5])\n",
    "outside = np.array([X[i] for i in range(len(res)) if res[i] < 0.5])\n",
    "\n",
    "fig = plt.figure()\n",
    "\n",
    "\n",
    "plt.scatter(inside[:,0],inside[:,1], c='green', marker='o')\n",
    "plt.scatter(outside[:,0],outside[:,1], c= 'red', marker='x')\n",
    "\n",
    "X_axis = np.concatenate((inside,outside), axis = 0)\n",
    "Y_axis = np.concatenate((np.ones(len(inside)), np.zeros(len(outside))), axis = 0)\n",
    "\n",
    "C = 1.0  # SVM regularization parameter\n",
    "clf = svm.SVC(kernel = 'rbf',  gamma=0.7, C=C )\n",
    "clf.fit(X_axis, Y_axis)\n",
    "\n",
    "h = .02  # step size in the mesh\n",
    "# create a mesh to plot in\n",
    "x_min, x_max = X_axis[:, 0].min() - 1, X_axis[:, 0].max() + 1\n",
    "y_min, y_max = X_axis[:, 1].min() - 1, X_axis[:, 1].max() + 1\n",
    "xx, yy = np.meshgrid(np.arange(x_min, x_max, h),\n",
    "                     np.arange(y_min, y_max, h))\n",
    "\n",
    "\n",
    "# Plot the decision boundary. For that, we will assign a color to each\n",
    "# point in the mesh [x_min, m_max]x[y_min, y_max].\n",
    "Z = clf.predict(np.c_[xx.ravel(), yy.ravel()])\n",
    "\n",
    "# add axis labels\n",
    "plt.xlabel('X')\n",
    "plt.ylabel('Y')\n",
    "\n",
    "# Put the result into a color plot\n",
    "Z = Z.reshape(xx.shape)\n",
    "plt.contour(xx, yy, Z, cmap=plt.cm.Paired)"
   ]
  },
  {
   "cell_type": "code",
   "execution_count": null,
   "metadata": {},
   "outputs": [],
   "source": []
  },
  {
   "cell_type": "code",
   "execution_count": null,
   "metadata": {},
   "outputs": [],
   "source": []
  }
 ],
 "metadata": {
  "kernelspec": {
   "display_name": ".venv",
   "language": "python",
   "name": "python3"
  },
  "language_info": {
   "codemirror_mode": {
    "name": "ipython",
    "version": 3
   },
   "file_extension": ".py",
   "mimetype": "text/x-python",
   "name": "python",
   "nbconvert_exporter": "python",
   "pygments_lexer": "ipython3",
   "version": "3.9.6"
  }
 },
 "nbformat": 4,
 "nbformat_minor": 2
}
