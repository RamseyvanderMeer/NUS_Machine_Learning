{
 "cells": [
  {
   "cell_type": "code",
   "execution_count": 2,
   "metadata": {},
   "outputs": [
    {
     "name": "stdout",
     "output_type": "stream",
     "text": [
      "/Users/ramsey/classwork/ESP3201/.venv/bin/pip: line 2: /Users/ramsey/classwork/ESP3201/Kalman Filter/.venv/bin/python: No such file or directory\n",
      "/Users/ramsey/classwork/ESP3201/.venv/bin/pip: line 2: exec: /Users/ramsey/classwork/ESP3201/Kalman Filter/.venv/bin/python: cannot execute: No such file or directory\n",
      "/Users/ramsey/classwork/ESP3201/.venv/bin/pip: line 2: /Users/ramsey/classwork/ESP3201/Kalman Filter/.venv/bin/python: No such file or directory\n",
      "/Users/ramsey/classwork/ESP3201/.venv/bin/pip: line 2: exec: /Users/ramsey/classwork/ESP3201/Kalman Filter/.venv/bin/python: cannot execute: No such file or directory\n",
      "/Users/ramsey/classwork/ESP3201/.venv/bin/pip: line 2: /Users/ramsey/classwork/ESP3201/Kalman Filter/.venv/bin/python: No such file or directory\n",
      "/Users/ramsey/classwork/ESP3201/.venv/bin/pip: line 2: exec: /Users/ramsey/classwork/ESP3201/Kalman Filter/.venv/bin/python: cannot execute: No such file or directory\n"
     ]
    }
   ],
   "source": [
    "!pip install numpy\n",
    "!pip install matplotlib\n",
    "!pip install pandas"
   ]
  },
  {
   "cell_type": "code",
   "execution_count": 3,
   "metadata": {},
   "outputs": [],
   "source": [
    "import numpy as np\n",
    "import matplotlib.pyplot as plt\n",
    "import pandas as pd\n",
    "import math\n",
    "from matplotlib.animation import FuncAnimation"
   ]
  },
  {
   "cell_type": "code",
   "execution_count": 4,
   "metadata": {},
   "outputs": [
    {
     "data": {
      "text/html": [
       "<div>\n",
       "<style scoped>\n",
       "    .dataframe tbody tr th:only-of-type {\n",
       "        vertical-align: middle;\n",
       "    }\n",
       "\n",
       "    .dataframe tbody tr th {\n",
       "        vertical-align: top;\n",
       "    }\n",
       "\n",
       "    .dataframe thead th {\n",
       "        text-align: right;\n",
       "    }\n",
       "</style>\n",
       "<table border=\"1\" class=\"dataframe\">\n",
       "  <thead>\n",
       "    <tr style=\"text-align: right;\">\n",
       "      <th></th>\n",
       "      <th>time</th>\n",
       "      <th>measurementX</th>\n",
       "      <th>measurementY</th>\n",
       "      <th>groundTruthX</th>\n",
       "      <th>groundTruthY</th>\n",
       "    </tr>\n",
       "  </thead>\n",
       "  <tbody>\n",
       "    <tr>\n",
       "      <th>0</th>\n",
       "      <td>2</td>\n",
       "      <td>382.86</td>\n",
       "      <td>-284.94</td>\n",
       "      <td>397.27</td>\n",
       "      <td>-288.96</td>\n",
       "    </tr>\n",
       "    <tr>\n",
       "      <th>1</th>\n",
       "      <td>3</td>\n",
       "      <td>399.66</td>\n",
       "      <td>-294.40</td>\n",
       "      <td>384.96</td>\n",
       "      <td>-291.13</td>\n",
       "    </tr>\n",
       "    <tr>\n",
       "      <th>2</th>\n",
       "      <td>4</td>\n",
       "      <td>380.77</td>\n",
       "      <td>-287.84</td>\n",
       "      <td>372.65</td>\n",
       "      <td>-293.30</td>\n",
       "    </tr>\n",
       "    <tr>\n",
       "      <th>3</th>\n",
       "      <td>5</td>\n",
       "      <td>349.82</td>\n",
       "      <td>-291.50</td>\n",
       "      <td>360.34</td>\n",
       "      <td>-295.47</td>\n",
       "    </tr>\n",
       "    <tr>\n",
       "      <th>4</th>\n",
       "      <td>6</td>\n",
       "      <td>340.51</td>\n",
       "      <td>-282.48</td>\n",
       "      <td>348.03</td>\n",
       "      <td>-297.64</td>\n",
       "    </tr>\n",
       "  </tbody>\n",
       "</table>\n",
       "</div>"
      ],
      "text/plain": [
       "   time  measurementX  measurementY  groundTruthX  groundTruthY\n",
       "0     2        382.86       -284.94        397.27       -288.96\n",
       "1     3        399.66       -294.40        384.96       -291.13\n",
       "2     4        380.77       -287.84        372.65       -293.30\n",
       "3     5        349.82       -291.50        360.34       -295.47\n",
       "4     6        340.51       -282.48        348.03       -297.64"
      ]
     },
     "execution_count": 4,
     "metadata": {},
     "output_type": "execute_result"
    }
   ],
   "source": [
    "# Load the dataset\n",
    "file_path = './KF_Measurement.csv'\n",
    "data = pd.read_csv(file_path)\n",
    "\n",
    "# Display the first few rows of the dataset\n",
    "data.head()\n",
    "# remove the 6th column\n",
    "data = data.drop(data.columns[5], axis=1)\n",
    "# name the columns\n",
    "data.columns = ['time', 'measurementX', 'measurementY', 'groundTruthX', 'groundTruthY']\n",
    "# Display the first few rows of the dataset\n",
    "data.head()\n",
    "\n"
   ]
  },
  {
   "cell_type": "code",
   "execution_count": 8,
   "metadata": {},
   "outputs": [
    {
     "name": "stdout",
     "output_type": "stream",
     "text": [
      "Step:  0 Error:  22.29611160045109\n",
      "Step:  1 Error:  14.043928026083933\n",
      "Step:  2 Error:  10.857273359504713\n",
      "Step:  3 Error:  10.709195461388944\n",
      "Step:  4 Error:  6.0694195943198\n",
      "Step:  5 Error:  1.893039266700898\n",
      "Step:  6 Error:  1.8571647661045343\n",
      "Step:  7 Error:  7.72704587251558\n",
      "Step:  8 Error:  5.126094805719136\n",
      "Step:  9 Error:  8.07810850034687\n",
      "Step:  10 Error:  6.639825854108331\n",
      "Step:  11 Error:  3.6970868586654744\n",
      "Step:  12 Error:  1.0346929331322972\n",
      "Step:  13 Error:  2.3466996814450662\n",
      "Step:  14 Error:  4.595060711158418\n",
      "Step:  15 Error:  4.371333558825475\n",
      "Step:  16 Error:  1.4140777150958026\n",
      "Step:  17 Error:  1.5360896943283011\n",
      "Step:  18 Error:  1.1038670007244789\n",
      "Step:  19 Error:  2.489687202382211\n",
      "Step:  20 Error:  2.1862952282032575\n",
      "Step:  21 Error:  0.7018957317479533\n",
      "Step:  22 Error:  0.9702431459472194\n",
      "Step:  23 Error:  1.2517067665367376\n",
      "Step:  24 Error:  2.862640347518797\n",
      "Step:  25 Error:  3.4567086057285876\n",
      "Step:  26 Error:  3.7949318723428798\n",
      "Step:  27 Error:  3.0313635517358466\n",
      "Step:  28 Error:  3.842393239004579\n",
      "Step:  29 Error:  5.9769088583675085\n",
      "Average error:  4.865362993671156\n"
     ]
    },
    {
     "data": {
      "text/plain": [
       "<Figure size 640x480 with 0 Axes>"
      ]
     },
     "metadata": {},
     "output_type": "display_data"
    },
    {
     "data": {
      "image/png": "[encoded data removed]",
      "text/plain": [
       "<Figure size 640x480 with 1 Axes>"
      ]
     },
     "metadata": {},
     "output_type": "display_data"
    }
   ],
   "source": [
    "time = data['time'].values\n",
    "measurements = data[['measurementX', 'measurementY']].values\n",
    "groundTruth = data[['groundTruthX', 'groundTruthY']].values\n",
    "\n",
    "# Constants\n",
    "velocity = 15  # constant velocity\n",
    "measurement_noise_std = 25 # standard deviation of measurement noise\n",
    "dt = 1 # change in time is 1 second\n",
    "\n",
    "\n",
    "# Initial state vector [x, y, vx, vy] Velocity is constant at 12.5 m/s\n",
    "X = np.array([measurements[0, 0], measurements[0, 1], -12.5*math.sin(45), -12.5*math.sin(45)])\n",
    "\n",
    "# State transition matrix A and B\n",
    "A = np.array([[1, 0, dt, 0],\n",
    "              [0, 1, 0, dt],\n",
    "              [0, 0, 1, 0],\n",
    "              [0, 0, 0, 1]])\n",
    "\n",
    "# control input matrix B to allow for external control input\n",
    "B = np.array([0,0,dt,dt]).T\n",
    "\n",
    "\n",
    "# Measurement matrix H to extract the position from the state vector X and ignore the velocity in a 2 by 1 matrix\n",
    "H = np.array([[1, 0, 0, 0],\n",
    "              [0, 1, 0, 0]])\n",
    "\n",
    "# [x ,y].T ???\n",
    "\n",
    "# Measurement noise covariance R assuming independance\n",
    "R = np.array([[measurement_noise_std**2, 0],\n",
    "              [0, measurement_noise_std**2]])\n",
    "\n",
    "# Process noise covariance matrix Q???\n",
    "Q = np.eye(4) * 0.01\n",
    "\n",
    "\n",
    "# Initial state covariance P ????\n",
    "P = np.array([[velocity**2, 0, 0, 0],\n",
    "                [0, velocity**2, 0, 0],\n",
    "                [0, 0, (velocity/3)**2, 0],\n",
    "                [0, 0, 0, (velocity/3)**2]])\n",
    "\n",
    "ave_error = 0\n",
    "\n",
    "# Kalman Filter implementation\n",
    "predicted_states = []\n",
    "for idx, step in enumerate(measurements):\n",
    "    # prediction step\n",
    "    Xp = A @ X + B @ np.array([0, 0, 0, 0]).T\n",
    "    P = A @ P @ A.T + Q\n",
    "    # calculate Kalman gain\n",
    "    K = P @ H.T @ np.linalg.inv(H @ P @ H.T + R)\n",
    "    Yt = step\n",
    "    # update process and state matrix\n",
    "    P = (np.eye(4) - K @ H) @  P\n",
    "    X = Xp + K @ (Yt - H @ Xp)\n",
    "    # current state becomes the predicted state????\n",
    "    predicted_states.append(X[:2])\n",
    "    # plot the expected state, the predicted state and the ground truth\n",
    "    # plt.figure()\n",
    "    # plt.xlim(0,400)\n",
    "    # plt.ylim(-375,-250)\n",
    "    # plt.ylabel(\"Y\")\n",
    "    # plt.xlabel(\"X\")\n",
    "    # plt.title(\"Step \" + str(idx))\n",
    "    # plt.plot(X[0], X[1], 'g', marker='o', label = \"predicted\")\n",
    "    # plt.plot(step[0], step[1], 'r', marker='x', label = \"measurements\")\n",
    "    # plt.plot(groundTruth[idx, 0], groundTruth[idx, 1], 'b', marker='.', label = \"ground truth\")\n",
    "    # plt.legend()\n",
    "    # show range of errors arround the predicted state, 2 standard deviations\n",
    "    # plt.plot([X[0] - 2*math.sqrt(P[0,0]), X[0] + 2*math.sqrt(P[0,0])], [X[1], X[1]], 'g', linestyle=':')\n",
    "    # plt.plot([X[0], X[0]], [X[1] - 2*math.sqrt(P[1,1]), X[1] + 2*math.sqrt(P[1,1])], 'g', linestyle=':')\n",
    "\n",
    "    plt.savefig(\"output_\" + str(idx) + \".jpg\")\n",
    "\n",
    "    calculated_error = np.linalg.norm(X[:2] - groundTruth[idx])\n",
    "\n",
    "\n",
    "\n",
    "    ave_error += calculated_error\n",
    "\n",
    "    print(\"Step: \", idx, \"Error: \", calculated_error)\n",
    "\n",
    "\n",
    "print(\"Average error: \", ave_error/len(measurements))\n",
    "predicted_states = np.array(predicted_states)\n",
    "plt.figure()\n",
    "plt.plot(groundTruth[:, 0], groundTruth[:, 1], 'b', label = \"ground truth\")\n",
    "plt.plot(predicted_states[:, 0], predicted_states[:, 1], 'r', marker='.', linestyle=':', label = \"predicted\")\n",
    "plt.plot(measurements[:, 0], measurements[:, 1], 'g', marker='x', label = \"measurements\")\n",
    "plt.legend()\n",
    "plt.show()\n"
   ]
  },
  {
   "cell_type": "code",
   "execution_count": null,
   "metadata": {},
   "outputs": [],
   "source": []
  },
  {
   "cell_type": "code",
   "execution_count": null,
   "metadata": {},
   "outputs": [],
   "source": []
  },
  {
   "cell_type": "code",
   "execution_count": null,
   "metadata": {},
   "outputs": [],
   "source": []
  },
  {
   "cell_type": "code",
   "execution_count": null,
   "metadata": {},
   "outputs": [],
   "source": []
  },
  {
   "cell_type": "code",
   "execution_count": null,
   "metadata": {},
   "outputs": [],
   "source": []
  },
  {
   "cell_type": "code",
   "execution_count": null,
   "metadata": {},
   "outputs": [],
   "source": []
  }
 ],
 "metadata": {
  "kernelspec": {
   "display_name": ".venv",
   "language": "python",
   "name": "python3"
  },
  "language_info": {
   "codemirror_mode": {
    "name": "ipython",
    "version": 3
   },
   "file_extension": ".py",
   "mimetype": "text/x-python",
   "name": "python",
   "nbconvert_exporter": "python",
   "pygments_lexer": "ipython3",
   "version": "3.9.6"
  }
 },
 "nbformat": 4,
 "nbformat_minor": 2
}
